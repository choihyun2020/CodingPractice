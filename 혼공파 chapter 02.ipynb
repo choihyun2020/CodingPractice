{
 "cells": [
  {
   "cell_type": "markdown",
   "id": "3e86076f",
   "metadata": {},
   "source": [
    "# 02 자료형\n"
   ]
  },
  {
   "cell_type": "markdown",
   "id": "296ebbae",
   "metadata": {},
   "source": [
    "## 02-1 자료형과 문자열 \n"
   ]
  },
  {
   "cell_type": "markdown",
   "id": "be140c56",
   "metadata": {},
   "source": [
    "가장 기본적인 자료형 - 문자열, 숫자 ,불(bool)  \n",
    "  \n",
    "자료형 확인 함수 - type()  \n",
    "  \n",
    "문자열안에서 역슬래시 활용하기 -  \\\" \\t \\n \\\\  \n",
    "  \n",
    "문자열 연산 가능 + * 인덱싱도 가능  \n",
    "  \n",
    "문자열 길이 함수 - len()  \n",
    "  \n"
   ]
  },
  {
   "cell_type": "markdown",
   "id": "a85e5d22",
   "metadata": {},
   "source": [
    "## 02-2 숫자"
   ]
  },
  {
   "cell_type": "markdown",
   "id": "b46225a2",
   "metadata": {},
   "source": [
    "숫자의 종류  - int(정수), float(부동소수점(실수))  \n",
    "  \n",
    "나누기 몫만 출력 // 나머지만 출력 %  \n",
    "  \n"
   ]
  },
  {
   "cell_type": "markdown",
   "id": "19f8b459",
   "metadata": {},
   "source": [
    "## 02-3 변수와 입력"
   ]
  },
  {
   "cell_type": "markdown",
   "id": "46f4272f",
   "metadata": {},
   "source": [
    "복합대입연산자 - number += 100 --> number = number + 100  \n",
    "  \n",
    "입력문자 자료형태 바꿔주기 = int(input), float(input)  \n",
    "  \n",
    "자료형 변환 - str(53), int(), float()  \n",
    "  \n",
    "\n"
   ]
  },
  {
   "cell_type": "markdown",
   "id": "8718111d",
   "metadata": {},
   "source": [
    "## 02-4 숫자와 문자열의 다양한 기능"
   ]
  },
  {
   "cell_type": "markdown",
   "id": "659ad399",
   "metadata": {},
   "source": [
    "format()함수  \n",
    "  \n",
    "output = \"{}\".format(50)  - 문자열 출력 . 정수형태는 \"{:d}\".format(50)\n"
   ]
  },
  {
   "cell_type": "code",
   "execution_count": 4,
   "id": "5687e71d",
   "metadata": {},
   "outputs": [
    {
     "name": "stdout",
     "output_type": "stream",
     "text": [
      "52\n",
      "   52\n",
      "        52\n",
      "00052\n",
      "-0052\n"
     ]
    }
   ],
   "source": [
    "o = \"{:d}\".format(52)\n",
    "o1 = \"{:5d}\".format(52) #5칸\n",
    "o2 = \"{:10d}\".format(52) #10칸\n",
    "o3 = \"{:05d}\".format(52) #양수 \n",
    "o4 = \"{:05d}\".format(-52) #음수 \n",
    "\n",
    "print(o)\n",
    "print(o1)\n",
    "print(o2)\n",
    "print(o3)\n",
    "print(o4)\n"
   ]
  },
  {
   "cell_type": "code",
   "execution_count": 9,
   "id": "642c3b9d",
   "metadata": {},
   "outputs": [
    {
     "name": "stdout",
     "output_type": "stream",
     "text": [
      "+52\n",
      "-52\n",
      " 52\n",
      "-52\n"
     ]
    }
   ],
   "source": [
    "#기호 함께 출력\n",
    "o5 = \"{:+d}\".format(52) #양수\n",
    "o6 = \"{:+d}\".format(-52) #음수\n",
    "o7 = \"{: d}\".format(52) #양수:기호 부분 공백\n",
    "o8 = \"{: d}\".format(-52) #음수:기호 부분 공백\n",
    "\n",
    "print(o5)\n",
    "print(o6)\n",
    "print(o7)\n",
    "print(o8)\n"
   ]
  },
  {
   "cell_type": "code",
   "execution_count": 11,
   "id": "2f40e8bc",
   "metadata": {},
   "outputs": [
    {
     "name": "stdout",
     "output_type": "stream",
     "text": [
      "  +52\n",
      "  -52\n",
      "+  52\n",
      "-  52\n",
      "+0052\n",
      "-0052\n"
     ]
    }
   ],
   "source": [
    "o9 = \"{:+5d}\".format(52) #기호를 뒤로 밀기:양수\n",
    "o10 = \"{:+5d}\".format(-52) #기호를 뒤로 밀기:음수\n",
    "o11 = \"{:=+5d}\".format(52) #기호를 앞으로 밀기:양수\n",
    "o12 = \"{:=+5d}\".format(-52) #기호를 앞으로 밀기:음수\n",
    "o13 = \"{:+05d}\".format(52) #0으로 채우기:양수\n",
    "o14 = \"{:+05d}\".format(-52) #0으로 채우기:음수\n",
    "\n",
    "print(o9)\n",
    "print(o10)\n",
    "print(o11)\n",
    "print(o12)\n",
    "print(o13)\n",
    "print(o14)\n"
   ]
  },
  {
   "cell_type": "code",
   "execution_count": 12,
   "id": "41edf828",
   "metadata": {},
   "outputs": [
    {
     "name": "stdout",
     "output_type": "stream",
     "text": [
      "52.273000\n",
      "      52.273000\n",
      "     +52.273000\n",
      "+0000052.273000\n"
     ]
    }
   ],
   "source": [
    "f1 = \"{:f}\".format(52.273)\n",
    "f2 = \"{:15f}\".format(52.273) #15칸 만들기\n",
    "f3 = \"{:+15f}\".format(52.273) #15칸에 부호 추가하기\n",
    "f4 = \"{:+015f}\".format(52.273) #15칸에 부호 추가하고 0으로 채우기\n",
    "\n",
    "print(f1)\n",
    "print(f2)\n",
    "print(f3)\n",
    "print(f4)\n"
   ]
  },
  {
   "cell_type": "code",
   "execution_count": 13,
   "id": "3359ae0d",
   "metadata": {},
   "outputs": [
    {
     "name": "stdout",
     "output_type": "stream",
     "text": [
      "         52.273\n",
      "          52.27\n",
      "           52.3\n"
     ]
    }
   ],
   "source": [
    "f5 = \"{:15.3f}\".format(52.273)\n",
    "f6 = \"{:15.2f}\".format(52.273)\n",
    "f7 = \"{:15.1f}\".format(52.273)\n",
    "\n",
    "print(f5)\n",
    "print(f6)\n",
    "print(f7)\n"
   ]
  },
  {
   "cell_type": "code",
   "execution_count": 14,
   "id": "1e897c9b",
   "metadata": {},
   "outputs": [
    {
     "name": "stdout",
     "output_type": "stream",
     "text": [
      "52.0\n",
      "52\n"
     ]
    }
   ],
   "source": [
    "#의미 없는 소수점 제거하기\n",
    "g1 = 52.0\n",
    "g2 = \"{:g}\".format(g1)\n",
    "\n",
    "print(g1)\n",
    "print(g2)"
   ]
  },
  {
   "cell_type": "markdown",
   "id": "41538990",
   "metadata": {},
   "source": [
    "문자열 양옆 공백 제거 strip()\n"
   ]
  },
  {
   "cell_type": "markdown",
   "id": "c53b1034",
   "metadata": {},
   "source": [
    "문자열 구성 파악하기 isOO()  \n",
    "isalnum() : 알파벳 또는 숫자로만 구성되었는지  \n",
    "isalpha() : 알파벳으로만 구성되었는지  \n",
    "isidentifier() : 식별자로 사용할수 있는 것인지  \n",
    "isdecimal() : 정수 형태인지 확인  \n",
    "isdigit() : 숫자로 인식될 수 있는 것인지  \n",
    "isspace() : 공백으로만 구성되어 있는지  \n",
    "islower() : 소문자로만 구성되어 있는지  \n",
    "isupper() : 대문자로만 구성되어 있는지  \n"
   ]
  },
  {
   "cell_type": "markdown",
   "id": "def6ecd2",
   "metadata": {},
   "source": [
    "문자열 자르기 split()  \n",
    "  \n"
   ]
  },
  {
   "cell_type": "code",
   "execution_count": 15,
   "id": "ebea3479",
   "metadata": {},
   "outputs": [
    {
     "name": "stdout",
     "output_type": "stream",
     "text": [
      "['10', '20', '30', '40', '50']\n"
     ]
    }
   ],
   "source": [
    "a = \"10 20 30 40 50\".split(\" \")\n",
    "print(a)"
   ]
  },
  {
   "cell_type": "markdown",
   "id": "c1cc0a5d",
   "metadata": {},
   "source": [
    "f - 문자열"
   ]
  },
  {
   "cell_type": "code",
   "execution_count": 18,
   "id": "2f00745b",
   "metadata": {},
   "outputs": [
    {
     "data": {
      "text/plain": [
       "'10'"
      ]
     },
     "execution_count": 18,
     "metadata": {},
     "output_type": "execute_result"
    }
   ],
   "source": [
    "\"{}\".format(10)"
   ]
  },
  {
   "cell_type": "code",
   "execution_count": 19,
   "id": "d1cd80f4",
   "metadata": {},
   "outputs": [
    {
     "data": {
      "text/plain": [
       "'10'"
      ]
     },
     "execution_count": 19,
     "metadata": {},
     "output_type": "execute_result"
    }
   ],
   "source": [
    "f'{10}'"
   ]
  },
  {
   "cell_type": "code",
   "execution_count": 20,
   "id": "91593eec",
   "metadata": {},
   "outputs": [
    {
     "data": {
      "text/plain": [
       "'3 + 4 = 7'"
      ]
     },
     "execution_count": 20,
     "metadata": {},
     "output_type": "execute_result"
    }
   ],
   "source": [
    "f\"3 + 4 = {3 + 4}\""
   ]
  },
  {
   "cell_type": "markdown",
   "id": "bae86528",
   "metadata": {},
   "source": [
    "f 문자열보다 format()함수를 사용하는 것이 더 좋은 경우"
   ]
  },
  {
   "cell_type": "markdown",
   "id": "af9c7cca",
   "metadata": {},
   "source": [
    "- 첫째, 문자열 내용이 너무 많을 때\n",
    "  문자열의 내용보다는 '어떤 데이터를 출력하는가?'가 더 중요한 경우\n",
    "  \n",
    "- 둘째, 데이터를 리스트에 담아서 사용할 때 \n"
   ]
  },
  {
   "cell_type": "code",
   "execution_count": 21,
   "id": "7598188f",
   "metadata": {},
   "outputs": [
    {
     "data": {
      "text/plain": [
       "'이름: 별\\n나이: 2\\n성별: M\\n지역: 서울특별시 강서구\\n중성화 여부: Y'"
      ]
     },
     "execution_count": 21,
     "metadata": {},
     "output_type": "execute_result"
    }
   ],
   "source": [
    "data = ['별', '2', 'M', '서울특별시 강서구', 'Y']\n",
    "f\"\"\"이름: {data[0]}\n",
    "나이: {data[1]}\n",
    "성별: {data[2]}\n",
    "지역: {data[3]}\n",
    "중성화 여부: {data[4]}\"\"\""
   ]
  },
  {
   "cell_type": "code",
   "execution_count": 22,
   "id": "40411542",
   "metadata": {},
   "outputs": [
    {
     "data": {
      "text/plain": [
       "'이름: 별\\n나이: 2\\n성별: M\\n지역: 서울특별시 강서구\\n중성화 여부: Y'"
      ]
     },
     "execution_count": 22,
     "metadata": {},
     "output_type": "execute_result"
    }
   ],
   "source": [
    "data = ['별', '2', 'M', '서울특별시 강서구', 'Y']\n",
    "\"\"\"이름: {}\n",
    "나이: {}\n",
    "성별: {}\n",
    "지역: {}\n",
    "중성화 여부: {}\"\"\".format(*data) # 여기서 *data의 *는 전개연산자이다. 전개 연산자를 사용하여 리스트의 내용을 전개한다."
   ]
  },
  {
   "cell_type": "markdown",
   "id": "a5ebbb63",
   "metadata": {},
   "source": [
    "# 문제\n"
   ]
  },
  {
   "cell_type": "markdown",
   "id": "2b4d75c2",
   "metadata": {},
   "source": [
    "홍길동 씨의 과목별 점수는 다음과 같다. 홍길동 씨의 평균 점수를 구해 보자.  \n",
    "과목 점수  \n",
    "국어 80  \n",
    "영어 75  \n",
    "수학 55  "
   ]
  },
  {
   "cell_type": "code",
   "execution_count": 24,
   "id": "96d5a16c",
   "metadata": {},
   "outputs": [
    {
     "name": "stdout",
     "output_type": "stream",
     "text": [
      "209\n",
      "69.66666666666667\n"
     ]
    }
   ],
   "source": [
    "국어 = 80\n",
    "영어 = 74\n",
    "수학 = 55\n",
    "total = 국어 + 영어 + 수학\n",
    "print(total)\n",
    "print(total/3)\n"
   ]
  },
  {
   "cell_type": "code",
   "execution_count": 25,
   "id": "9e07ceb3",
   "metadata": {},
   "outputs": [
    {
     "name": "stdout",
     "output_type": "stream",
     "text": [
      "s                   :aa.bb.cc.dd.ee.ff.gg\n",
      "['aa.bb.cc.dd.ee.ff.gg']\n",
      "['aa', 'bb', 'cc', 'dd', 'ee', 'ff', 'gg']\n",
      "['aa', 'bb', 'cc', 'dd', 'ee', 'ff', 'gg']\n"
     ]
    }
   ],
   "source": [
    "s = \"aa.bb.cc.dd.ee.ff.gg\"\n",
    "print(f's                   :{s}')\n",
    "\n",
    "r0 = s.split()\n",
    "r1 = s.split('.')\n",
    "r2 = s.split(sep='.')\n",
    "print(r0)\n",
    "print(r1)\n",
    "print(r2)"
   ]
  },
  {
   "cell_type": "code",
   "execution_count": 28,
   "id": "c739858b",
   "metadata": {},
   "outputs": [
    {
     "name": "stdout",
     "output_type": "stream",
     "text": [
      "aa.bb.cc.BlockDMask.ee.ff.gg.python.example\n",
      "['aa.bb.cc.BlockDMask.ee.ff.gg.python.example']\n",
      "['aa', 'bb', 'cc', 'BlockDMask.ee.ff.gg.python.example']\n",
      "['aa', 'bb', 'cc', 'BlockDMask.ee.ff.gg.python.example']\n",
      "['aa', 'bb', 'cc', 'BlockDMask.ee.ff.gg.python.example']\n"
     ]
    }
   ],
   "source": [
    "s = \"aa.bb.cc.BlockDMask.ee.ff.gg.python.example\"\n",
    "print(f'{s}')\n",
    "\n",
    "r0 = s.split()\n",
    "r1 = s.split('.', 3)\n",
    "r2 = s.split(sep='.', maxsplit=3)\n",
    "r3 = s.split('.', maxsplit=3)\n",
    "\n",
    "print(r0)\n",
    "print(r1)\n",
    "print(r2)\n",
    "print(r3)"
   ]
  },
  {
   "cell_type": "code",
   "execution_count": null,
   "id": "4984a685",
   "metadata": {},
   "outputs": [],
   "source": []
  }
 ],
 "metadata": {
  "kernelspec": {
   "display_name": "Python 3 (ipykernel)",
   "language": "python",
   "name": "python3"
  },
  "language_info": {
   "codemirror_mode": {
    "name": "ipython",
    "version": 3
   },
   "file_extension": ".py",
   "mimetype": "text/x-python",
   "name": "python",
   "nbconvert_exporter": "python",
   "pygments_lexer": "ipython3",
   "version": "3.9.15"
  }
 },
 "nbformat": 4,
 "nbformat_minor": 5
}
